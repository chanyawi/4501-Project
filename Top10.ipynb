{
 "cells": [
  {
   "cell_type": "markdown",
   "id": "e614f3bc",
   "metadata": {},
   "source": [
    "<h1>Top 10</h1>"
   ]
  },
  {
   "cell_type": "markdown",
   "id": "77faadc2",
   "metadata": {},
   "source": [
    "In a first Jupyter notebook called Top10.ipynb, analyze what the top 10 causes of calls to 311 are in your chosen ZIP code, and calculate how many total incidents of each of these 10 types there have been in the year 2020. Your answer should be a pandas.Series which you must call `top10` (as a Python variable), which should be in descending order by number of incidents, and which contains as its labels the incident type (a string) and as associated values the total number of incidents of this type in 2020."
   ]
  },
  {
   "cell_type": "code",
   "execution_count": 4,
   "id": "a215dc1f",
   "metadata": {},
   "outputs": [],
   "source": [
    "import numpy as np\n",
    "import pandas as pd"
   ]
  },
  {
   "cell_type": "code",
   "execution_count": 2,
   "id": "66afe30e",
   "metadata": {},
   "outputs": [
    {
     "name": "stderr",
     "output_type": "stream",
     "text": [
      "/Users/hanxiao/opt/anaconda3/lib/python3.8/site-packages/IPython/core/interactiveshell.py:3437: DtypeWarning: Columns (20,31,32) have mixed types.Specify dtype option on import or set low_memory=False.\n",
      "  exec(code_obj, self.user_global_ns, self.user_ns)\n"
     ]
    }
   ],
   "source": [
    "#import 311_Service_Requests_2020.csv\n",
    "file = '311_Service_Requests_2020.csv'\n",
    "df = pd.read_csv(file)"
   ]
  },
  {
   "cell_type": "code",
   "execution_count": 5,
   "id": "213ac90e",
   "metadata": {},
   "outputs": [],
   "source": [
    "#choose zip code 10025\n",
    "df = df[df[\"Incident Zip\"] == 10025]"
   ]
  },
  {
   "cell_type": "code",
   "execution_count": 6,
   "id": "dff250fa",
   "metadata": {},
   "outputs": [
    {
     "data": {
      "text/html": [
       "<div>\n",
       "<style scoped>\n",
       "    .dataframe tbody tr th:only-of-type {\n",
       "        vertical-align: middle;\n",
       "    }\n",
       "\n",
       "    .dataframe tbody tr th {\n",
       "        vertical-align: top;\n",
       "    }\n",
       "\n",
       "    .dataframe thead th {\n",
       "        text-align: right;\n",
       "    }\n",
       "</style>\n",
       "<table border=\"1\" class=\"dataframe\">\n",
       "  <thead>\n",
       "    <tr style=\"text-align: right;\">\n",
       "      <th></th>\n",
       "      <th>Unique Key</th>\n",
       "      <th>Created Date</th>\n",
       "      <th>Closed Date</th>\n",
       "      <th>Agency</th>\n",
       "      <th>Agency Name</th>\n",
       "      <th>Complaint Type</th>\n",
       "      <th>Descriptor</th>\n",
       "      <th>Location Type</th>\n",
       "      <th>Incident Zip</th>\n",
       "      <th>Incident Address</th>\n",
       "      <th>...</th>\n",
       "      <th>Vehicle Type</th>\n",
       "      <th>Taxi Company Borough</th>\n",
       "      <th>Taxi Pick Up Location</th>\n",
       "      <th>Bridge Highway Name</th>\n",
       "      <th>Bridge Highway Direction</th>\n",
       "      <th>Road Ramp</th>\n",
       "      <th>Bridge Highway Segment</th>\n",
       "      <th>Latitude</th>\n",
       "      <th>Longitude</th>\n",
       "      <th>Location</th>\n",
       "    </tr>\n",
       "  </thead>\n",
       "  <tbody>\n",
       "    <tr>\n",
       "      <th>11</th>\n",
       "      <td>45278238</td>\n",
       "      <td>01/01/2020 12:01:46 AM</td>\n",
       "      <td>01/01/2020 05:37:46 AM</td>\n",
       "      <td>NYPD</td>\n",
       "      <td>New York City Police Department</td>\n",
       "      <td>Noise - Residential</td>\n",
       "      <td>Banging/Pounding</td>\n",
       "      <td>NaN</td>\n",
       "      <td>10025.0</td>\n",
       "      <td>865 COLUMBUS AVENUE</td>\n",
       "      <td>...</td>\n",
       "      <td>NaN</td>\n",
       "      <td>NaN</td>\n",
       "      <td>NaN</td>\n",
       "      <td>NaN</td>\n",
       "      <td>NaN</td>\n",
       "      <td>NaN</td>\n",
       "      <td>NaN</td>\n",
       "      <td>40.796930</td>\n",
       "      <td>-73.964551</td>\n",
       "      <td>(40.79692992181987, -73.96455113216999)</td>\n",
       "    </tr>\n",
       "    <tr>\n",
       "      <th>141</th>\n",
       "      <td>45278928</td>\n",
       "      <td>01/01/2020 12:36:42 AM</td>\n",
       "      <td>01/01/2020 01:19:30 AM</td>\n",
       "      <td>NYPD</td>\n",
       "      <td>New York City Police Department</td>\n",
       "      <td>Noise - Residential</td>\n",
       "      <td>Loud Music/Party</td>\n",
       "      <td>Residential Building/House</td>\n",
       "      <td>10025.0</td>\n",
       "      <td>118 WEST  109 STREET</td>\n",
       "      <td>...</td>\n",
       "      <td>NaN</td>\n",
       "      <td>NaN</td>\n",
       "      <td>NaN</td>\n",
       "      <td>NaN</td>\n",
       "      <td>NaN</td>\n",
       "      <td>NaN</td>\n",
       "      <td>NaN</td>\n",
       "      <td>40.801499</td>\n",
       "      <td>-73.962255</td>\n",
       "      <td>(40.80149916419462, -73.96225510969452)</td>\n",
       "    </tr>\n",
       "    <tr>\n",
       "      <th>463</th>\n",
       "      <td>45282069</td>\n",
       "      <td>01/01/2020 01:37:02 AM</td>\n",
       "      <td>01/01/2020 01:55:21 AM</td>\n",
       "      <td>NYPD</td>\n",
       "      <td>New York City Police Department</td>\n",
       "      <td>Noise - Residential</td>\n",
       "      <td>Loud Music/Party</td>\n",
       "      <td>Residential Building/House</td>\n",
       "      <td>10025.0</td>\n",
       "      <td>120 WEST  109 STREET</td>\n",
       "      <td>...</td>\n",
       "      <td>NaN</td>\n",
       "      <td>NaN</td>\n",
       "      <td>NaN</td>\n",
       "      <td>NaN</td>\n",
       "      <td>NaN</td>\n",
       "      <td>NaN</td>\n",
       "      <td>NaN</td>\n",
       "      <td>40.801516</td>\n",
       "      <td>-73.962295</td>\n",
       "      <td>(40.801515645553465, -73.96229483182476)</td>\n",
       "    </tr>\n",
       "    <tr>\n",
       "      <th>979</th>\n",
       "      <td>45286989</td>\n",
       "      <td>01/01/2020 03:33:15 AM</td>\n",
       "      <td>02/21/2020 08:45:41 AM</td>\n",
       "      <td>TLC</td>\n",
       "      <td>Taxi and Limousine Commission</td>\n",
       "      <td>For Hire Vehicle Complaint</td>\n",
       "      <td>Driver Complaint - Passenger</td>\n",
       "      <td>NaN</td>\n",
       "      <td>10025.0</td>\n",
       "      <td>WEST   96 STREET</td>\n",
       "      <td>...</td>\n",
       "      <td>NaN</td>\n",
       "      <td>MANHATTAN</td>\n",
       "      <td>WEST   96 STREET AND WEST END AVENUE, MANHATTA...</td>\n",
       "      <td>NaN</td>\n",
       "      <td>NaN</td>\n",
       "      <td>NaN</td>\n",
       "      <td>NaN</td>\n",
       "      <td>40.795252</td>\n",
       "      <td>-73.973209</td>\n",
       "      <td>(40.795252485299606, -73.97320906036077)</td>\n",
       "    </tr>\n",
       "    <tr>\n",
       "      <th>1166</th>\n",
       "      <td>45287132</td>\n",
       "      <td>01/01/2020 04:33:27 AM</td>\n",
       "      <td>01/03/2020 05:46:11 AM</td>\n",
       "      <td>HPD</td>\n",
       "      <td>Department of Housing Preservation and Develop...</td>\n",
       "      <td>HEAT/HOT WATER</td>\n",
       "      <td>ENTIRE BUILDING</td>\n",
       "      <td>RESIDENTIAL BUILDING</td>\n",
       "      <td>10025.0</td>\n",
       "      <td>216 WEST  104 STREET</td>\n",
       "      <td>...</td>\n",
       "      <td>NaN</td>\n",
       "      <td>NaN</td>\n",
       "      <td>NaN</td>\n",
       "      <td>NaN</td>\n",
       "      <td>NaN</td>\n",
       "      <td>NaN</td>\n",
       "      <td>NaN</td>\n",
       "      <td>40.799406</td>\n",
       "      <td>-73.967335</td>\n",
       "      <td>(40.799406488813695, -73.96733454030634)</td>\n",
       "    </tr>\n",
       "  </tbody>\n",
       "</table>\n",
       "<p>5 rows × 41 columns</p>\n",
       "</div>"
      ],
      "text/plain": [
       "      Unique Key            Created Date             Closed Date Agency  \\\n",
       "11      45278238  01/01/2020 12:01:46 AM  01/01/2020 05:37:46 AM   NYPD   \n",
       "141     45278928  01/01/2020 12:36:42 AM  01/01/2020 01:19:30 AM   NYPD   \n",
       "463     45282069  01/01/2020 01:37:02 AM  01/01/2020 01:55:21 AM   NYPD   \n",
       "979     45286989  01/01/2020 03:33:15 AM  02/21/2020 08:45:41 AM    TLC   \n",
       "1166    45287132  01/01/2020 04:33:27 AM  01/03/2020 05:46:11 AM    HPD   \n",
       "\n",
       "                                            Agency Name  \\\n",
       "11                      New York City Police Department   \n",
       "141                     New York City Police Department   \n",
       "463                     New York City Police Department   \n",
       "979                       Taxi and Limousine Commission   \n",
       "1166  Department of Housing Preservation and Develop...   \n",
       "\n",
       "                  Complaint Type                    Descriptor  \\\n",
       "11           Noise - Residential              Banging/Pounding   \n",
       "141          Noise - Residential              Loud Music/Party   \n",
       "463          Noise - Residential              Loud Music/Party   \n",
       "979   For Hire Vehicle Complaint  Driver Complaint - Passenger   \n",
       "1166              HEAT/HOT WATER               ENTIRE BUILDING   \n",
       "\n",
       "                   Location Type  Incident Zip      Incident Address  ...  \\\n",
       "11                           NaN       10025.0   865 COLUMBUS AVENUE  ...   \n",
       "141   Residential Building/House       10025.0  118 WEST  109 STREET  ...   \n",
       "463   Residential Building/House       10025.0  120 WEST  109 STREET  ...   \n",
       "979                          NaN       10025.0      WEST   96 STREET  ...   \n",
       "1166        RESIDENTIAL BUILDING       10025.0  216 WEST  104 STREET  ...   \n",
       "\n",
       "     Vehicle Type Taxi Company Borough  \\\n",
       "11            NaN                  NaN   \n",
       "141           NaN                  NaN   \n",
       "463           NaN                  NaN   \n",
       "979           NaN            MANHATTAN   \n",
       "1166          NaN                  NaN   \n",
       "\n",
       "                                  Taxi Pick Up Location Bridge Highway Name  \\\n",
       "11                                                  NaN                 NaN   \n",
       "141                                                 NaN                 NaN   \n",
       "463                                                 NaN                 NaN   \n",
       "979   WEST   96 STREET AND WEST END AVENUE, MANHATTA...                 NaN   \n",
       "1166                                                NaN                 NaN   \n",
       "\n",
       "     Bridge Highway Direction Road Ramp Bridge Highway Segment   Latitude  \\\n",
       "11                        NaN       NaN                    NaN  40.796930   \n",
       "141                       NaN       NaN                    NaN  40.801499   \n",
       "463                       NaN       NaN                    NaN  40.801516   \n",
       "979                       NaN       NaN                    NaN  40.795252   \n",
       "1166                      NaN       NaN                    NaN  40.799406   \n",
       "\n",
       "      Longitude                                  Location  \n",
       "11   -73.964551   (40.79692992181987, -73.96455113216999)  \n",
       "141  -73.962255   (40.80149916419462, -73.96225510969452)  \n",
       "463  -73.962295  (40.801515645553465, -73.96229483182476)  \n",
       "979  -73.973209  (40.795252485299606, -73.97320906036077)  \n",
       "1166 -73.967335  (40.799406488813695, -73.96733454030634)  \n",
       "\n",
       "[5 rows x 41 columns]"
      ]
     },
     "execution_count": 6,
     "metadata": {},
     "output_type": "execute_result"
    }
   ],
   "source": [
    "df.head()"
   ]
  },
  {
   "cell_type": "code",
   "execution_count": 8,
   "id": "f55ab705",
   "metadata": {},
   "outputs": [],
   "source": [
    "#find top10 incident types\n",
    "total_incidents = df.groupby(\"Complaint Type\")['Unique Key'].count()\n",
    "top10 = total_incidents.sort_values(ascending = False)[:10]"
   ]
  },
  {
   "cell_type": "code",
   "execution_count": 9,
   "id": "653b8447",
   "metadata": {},
   "outputs": [
    {
     "data": {
      "text/plain": [
       "Complaint Type\n",
       "Noise - Residential            2952\n",
       "Noise - Street/Sidewalk        2128\n",
       "HEAT/HOT WATER                 1885\n",
       "Noise                          1131\n",
       "Illegal Parking                 792\n",
       "Noise - Vehicle                 787\n",
       "Non-Emergency Police Matter     773\n",
       "Rodent                          691\n",
       "Illegal Fireworks               672\n",
       "UNSANITARY CONDITION            565\n",
       "Name: Unique Key, dtype: int64"
      ]
     },
     "execution_count": 9,
     "metadata": {},
     "output_type": "execute_result"
    }
   ],
   "source": [
    "top10"
   ]
  },
  {
   "cell_type": "code",
   "execution_count": 10,
   "id": "7e7c45b4",
   "metadata": {},
   "outputs": [
    {
     "data": {
      "text/plain": [
       "pandas.core.series.Series"
      ]
     },
     "execution_count": 10,
     "metadata": {},
     "output_type": "execute_result"
    }
   ],
   "source": [
    "type(top10)"
   ]
  },
  {
   "cell_type": "code",
   "execution_count": null,
   "id": "7908cdf7",
   "metadata": {},
   "outputs": [],
   "source": []
  }
 ],
 "metadata": {
  "kernelspec": {
   "display_name": "Python 3",
   "language": "python",
   "name": "python3"
  },
  "language_info": {
   "codemirror_mode": {
    "name": "ipython",
    "version": 3
   },
   "file_extension": ".py",
   "mimetype": "text/x-python",
   "name": "python",
   "nbconvert_exporter": "python",
   "pygments_lexer": "ipython3",
   "version": "3.8.8"
  }
 },
 "nbformat": 4,
 "nbformat_minor": 5
}
